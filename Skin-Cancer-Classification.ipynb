{
 "cells": [
  {
   "cell_type": "code",
   "execution_count": 3,
   "metadata": {},
   "outputs": [
    {
     "name": "stderr",
     "output_type": "stream",
     "text": [
      "/home/surya/.conda/lib/python3.6/site-packages/h5py/__init__.py:34: FutureWarning: Conversion of the second argument of issubdtype from `float` to `np.floating` is deprecated. In future, it will be treated as `np.float64 == np.dtype(float).type`.\n",
      "  from ._conv import register_converters as _register_converters\n",
      "Using TensorFlow backend.\n",
      "/home/surya/.conda/lib/python3.6/site-packages/sklearn/cross_validation.py:41: DeprecationWarning: This module was deprecated in version 0.18 in favor of the model_selection module into which all the refactored classes and functions are moved. Also note that the interface of the new CV iterators are different from that of this module. This module will be removed in 0.20.\n",
      "  \"This module will be removed in 0.20.\", DeprecationWarning)\n"
     ]
    }
   ],
   "source": [
    "import argparse \n",
    "import cv2\n",
    "import numpy as np\n",
    "import os\n",
    "import glob\n",
    "import random\n",
    "import Utility\n",
    "from sklearn.metrics import confusion_matrix, accuracy_score\n",
    "from sklearn.naive_bayes import GaussianNB\n",
    "from sklearn.externals import joblib\n",
    "from scipy.cluster.vq import *\n",
    "from sklearn.preprocessing import StandardScaler\n",
    "import matplotlib.pyplot as plt\n",
    "from sklearn.externals import joblib\n",
    "import pandas as pd\n",
    "from keras.models import * \n",
    "from keras.layers import *\n",
    "\n",
    "import numpy as np\n",
    "import cv2\n",
    "from keras.preprocessing.image import array_to_img, img_to_array, load_img, ImageDataGenerator\n",
    "from scipy.misc import imresize\n",
    "import itertools\n",
    "\n",
    "from sklearn.cross_validation import train_test_split \n",
    "from keras.models import Model\n",
    "from keras.layers import Input, concatenate, Conv2D, MaxPooling2D, UpSampling2D, Reshape, core, Dropout\n",
    "from keras.optimizers import Adam\n",
    "from keras.callbacks import ModelCheckpoint, LearningRateScheduler\n",
    "from keras import backend as K\n",
    "from keras.utils.vis_utils import plot_model as plot\n",
    "from keras.optimizers import SGD"
   ]
  },
  {
   "cell_type": "code",
   "execution_count": 4,
   "metadata": {},
   "outputs": [],
   "source": [
    "import matplotlib.pyplot as plt\n",
    "%matplotlib inline"
   ]
  },
  {
   "cell_type": "markdown",
   "metadata": {},
   "source": [
    "# Loading the augmented training data "
   ]
  },
  {
   "cell_type": "code",
   "execution_count": 5,
   "metadata": {},
   "outputs": [],
   "source": [
    "trainList = [\"others\",\"Melanoma/original\",\"Melanoma/left_rotate\",\"Melanoma/flip\",\"Melanoma/right_rotate\"]\n",
    "class_id = 0\n",
    "class_path = []\n",
    "segs_path = []\n",
    "classes = []\n",
    "imgs_path = []\n",
    "paths = []\n",
    "Melanoma = []\n",
    "for training_name in trainList:\n",
    "    class_path = Utility.imlist(training_name)\n",
    "    paths += class_path\n",
    "    classes += [class_id] * len(class_path)\n",
    "    class_id += 1\n",
    "    if(class_id>1):\n",
    "        class_id=1\n",
    "    \n",
    "    "
   ]
  },
  {
   "cell_type": "markdown",
   "metadata": {},
   "source": [
    "# Loading the segmented image data"
   ]
  },
  {
   "cell_type": "code",
   "execution_count": 6,
   "metadata": {},
   "outputs": [],
   "source": [
    "path = \"gt\"\n",
    "gt_paths = []\n",
    "for pt in paths:\n",
    "    #print(pt)\n",
    "    newfile = pt.split(\"/\")[-1][0:-4]+ \"_segmentation.png\"\n",
    "    newpath = path+\"/\" + newfile\n",
    "    #print (newpath)\n",
    "    gt_paths.append(newpath)\n",
    "    "
   ]
  },
  {
   "cell_type": "code",
   "execution_count": 7,
   "metadata": {},
   "outputs": [
    {
     "data": {
      "text/plain": [
       "3122"
      ]
     },
     "execution_count": 7,
     "metadata": {},
     "output_type": "execute_result"
    }
   ],
   "source": [
    "len(gt_paths)"
   ]
  },
  {
   "cell_type": "code",
   "execution_count": 8,
   "metadata": {},
   "outputs": [],
   "source": [
    "#for data augmentation\n",
    "import shutil\n",
    "for pt in range(0,1626):\n",
    "    shutil.copy(gt_paths[pt],\"GT/non_cancer\")"
   ]
  },
  {
   "cell_type": "code",
   "execution_count": 9,
   "metadata": {},
   "outputs": [],
   "source": [
    "#Melanoma Data is rotated along all the 4 directions \n",
    "path = [\"GT/non_cancer\",\"GT/original\",\"GT/left_rotate\",\"GT/flip\",\"GT/right_rotate\"]\n",
    "gt_paths = []\n",
    "\n",
    "i = 0\n",
    "j = 0 \n",
    "for pt in paths:\n",
    "    #print(pt)\n",
    "    newfile = pt.split(\"/\")[-1][0:-4]+ \"_segmentation.png\"\n",
    "    \n",
    "    if(j==1626 or j == 2000 or j==2374 or j == 2748):\n",
    "        i = i + 1 \n",
    "    j = j + 1    \n",
    "    newpath = path[i] +\"/\" + newfile\n",
    "    \n",
    "    #print (newpath)\n",
    "    gt_paths.append(newpath)"
   ]
  },
  {
   "cell_type": "code",
   "execution_count": 10,
   "metadata": {},
   "outputs": [],
   "source": [
    "norm_images = []\n",
    "seg_images = []\n",
    "for i in range(len(paths)):\n",
    "    im = cv2.imread(paths[i])\n",
    "    seg = cv2.imread(gt_paths[i],0)\n",
    "    norm_images.append(im)\n",
    "    seg_images.append(seg)"
   ]
  },
  {
   "cell_type": "markdown",
   "metadata": {},
   "source": [
    "# Applying logical mask to the images"
   ]
  },
  {
   "cell_type": "code",
   "execution_count": 11,
   "metadata": {},
   "outputs": [],
   "source": [
    "segmented = []\n",
    "\n",
    "for i in range(len(norm_images)):\n",
    "    img1 = cv2.resize(norm_images[i], (128,128))\n",
    "    img2 = cv2.resize(seg_images[i], (128,128))\n",
    "    \n",
    "    #print(img1.shape)\n",
    "    #print(img2.shape)\n",
    "    B,G,R = cv2.split(img1)\n",
    "    maskB = np.multiply(B,img2)\n",
    "    maskG = np.multiply(G,img2)\n",
    "    maskR = np.multiply(R,img2)\n",
    "    img = cv2.merge((maskB,maskG,maskR))\n",
    "    segmented.append(img)\n"
   ]
  },
  {
   "cell_type": "code",
   "execution_count": 12,
   "metadata": {},
   "outputs": [],
   "source": [
    "segemented = np.array(segmented)\n",
    "norm_images = np.array(norm_images)\n",
    "seg_images = np.array(seg_images)"
   ]
  },
  {
   "cell_type": "code",
   "execution_count": 69,
   "metadata": {},
   "outputs": [],
   "source": [
    "np.save(\"segemented.npy\",segmented)\n",
    "np.save(\"norm_images.npy\",norm_images)\n",
    "np.save(\"seg_images.npy\",seg_images)"
   ]
  },
  {
   "cell_type": "code",
   "execution_count": 13,
   "metadata": {},
   "outputs": [
    {
     "data": {
      "text/plain": [
       "<matplotlib.image.AxesImage at 0x7fca621a9dd8>"
      ]
     },
     "execution_count": 13,
     "metadata": {},
     "output_type": "execute_result"
    },
    {
     "data": {
      "image/png": "[encoded data removed]",
      "text/plain": [
       "<matplotlib.figure.Figure at 0x7fca6b4bcf28>"
      ]
     },
     "metadata": {},
     "output_type": "display_data"
    }
   ],
   "source": [
    "plt.subplot(1,2,1)\n",
    "plt.imshow(seg_images[0])\n",
    "\n",
    "plt.subplot(1,2,2)\n",
    "plt.imshow(segemented[0])"
   ]
  },
  {
   "cell_type": "markdown",
   "metadata": {},
   "source": [
    "# Splitting the data into testing and training"
   ]
  },
  {
   "cell_type": "code",
   "execution_count": 14,
   "metadata": {},
   "outputs": [],
   "source": [
    "other_seg = segemented[0:1326]\n",
    "mela_seg = segemented[1626:1950]\n",
    "mela_seg2 = segemented[2000:2324]\n",
    "mela_seg3 = segemented[2374:2698]\n",
    "mela_seg4 = segemented[2748:3072]\n",
    "x_train = np.concatenate((other_seg,mela_seg,mela_seg2,mela_seg3,mela_seg4),axis=0)"
   ]
  },
  {
   "cell_type": "code",
   "execution_count": 15,
   "metadata": {},
   "outputs": [],
   "source": [
    "other_segt = segemented[1326:1626]\n",
    "mela_segt = segemented[1950:2000]\n",
    "mela_seg2t = segemented[2324:2374]\n",
    "mela_seg3t = segemented[2698:2748]\n",
    "mela_seg4t = segemented[3072:3122]\n",
    "\n",
    "\n",
    "x_test = np.concatenate((other_segt,mela_segt,mela_seg2t,mela_seg3t,mela_seg4t),axis=0)"
   ]
  },
  {
   "cell_type": "code",
   "execution_count": 16,
   "metadata": {},
   "outputs": [
    {
     "data": {
      "text/plain": [
       "(500, 128, 128, 3)"
      ]
     },
     "execution_count": 16,
     "metadata": {},
     "output_type": "execute_result"
    }
   ],
   "source": [
    "x_test.shape"
   ]
  },
  {
   "cell_type": "code",
   "execution_count": 17,
   "metadata": {},
   "outputs": [],
   "source": [
    "y_train = np.concatenate((classes[:1326],classes[1626:1950],classes[2000:2324],classes[2374:2698],classes[2748:3072]),axis=0)\n",
    "y_test = np.concatenate((classes[1326:1626],classes[1950:2000],classes[2324:2374],classes[2698:2748],classes[3072:3122]),axis=0)"
   ]
  },
  {
   "cell_type": "code",
   "execution_count": 18,
   "metadata": {},
   "outputs": [
    {
     "data": {
      "text/plain": [
       "(500,)"
      ]
     },
     "execution_count": 18,
     "metadata": {},
     "output_type": "execute_result"
    }
   ],
   "source": [
    "y_test.shape"
   ]
  },
  {
   "cell_type": "code",
   "execution_count": 19,
   "metadata": {},
   "outputs": [],
   "source": [
    "from keras.utils import np_utils\n",
    "from keras.models import Sequential\n",
    "from sklearn.preprocessing import LabelEncoder\n",
    "\n",
    "y_train = LabelEncoder().fit_transform(y_train)\n",
    "y_train = np_utils.to_categorical(y_train)\n",
    "y_test = LabelEncoder().fit_transform(y_test)\n",
    "y_test = np_utils.to_categorical(y_test)"
   ]
  },
  {
   "cell_type": "code",
   "execution_count": 20,
   "metadata": {},
   "outputs": [
    {
     "data": {
      "text/plain": [
       "(500, 2)"
      ]
     },
     "execution_count": 20,
     "metadata": {},
     "output_type": "execute_result"
    }
   ],
   "source": [
    "y_test.shape"
   ]
  },
  {
   "cell_type": "markdown",
   "metadata": {},
   "source": [
    "# CNN Model with 6 Layer"
   ]
  },
  {
   "cell_type": "code",
   "execution_count": 23,
   "metadata": {},
   "outputs": [
    {
     "name": "stderr",
     "output_type": "stream",
     "text": [
      "/home/surya/.conda/lib/python3.6/site-packages/ipykernel_launcher.py:9: UserWarning: Update your `Conv2D` call to the Keras 2 API: `Conv2D(32, (5, 5), activation=\"relu\", padding=\"same\", data_format=\"channels_last\")`\n",
      "  if __name__ == '__main__':\n",
      "/home/surya/.conda/lib/python3.6/site-packages/ipykernel_launcher.py:11: UserWarning: Update your `MaxPooling2D` call to the Keras 2 API: `MaxPooling2D(pool_size=(2, 2), data_format=\"channels_last\")`\n",
      "  # This is added back by InteractiveShellApp.init_path()\n",
      "/home/surya/.conda/lib/python3.6/site-packages/ipykernel_launcher.py:13: UserWarning: Update your `Conv2D` call to the Keras 2 API: `Conv2D(64, (3, 3), activation=\"relu\", padding=\"same\", data_format=\"channels_last\")`\n",
      "  del sys.path[0]\n",
      "/home/surya/.conda/lib/python3.6/site-packages/ipykernel_launcher.py:15: UserWarning: Update your `MaxPooling2D` call to the Keras 2 API: `MaxPooling2D(pool_size=(2, 2), data_format=\"channels_last\")`\n",
      "  from ipykernel import kernelapp as app\n"
     ]
    }
   ],
   "source": [
    "Optimizer=Adam(lr=0.001)\n",
    "objective='binary_crossentropy'\n",
    "def center_normalize(x):\n",
    "    return (x-K.mean(x))/K.std(x)\n",
    "model=Sequential()\n",
    "#input layer\n",
    "model.add(Activation(activation=center_normalize, input_shape=(128, 128,3)))\n",
    "# convolutional layer\n",
    "model.add(Convolution2D(32,5,5,border_mode='same',activation='relu',dim_ordering='tf'))\n",
    "#pooling layer\n",
    "model.add(MaxPooling2D(pool_size=(2,2),dim_ordering='tf'))\n",
    "# convolutional layer\n",
    "model.add(Convolution2D(64,3,3,border_mode='same',activation='relu',dim_ordering='tf'))\n",
    "# pooling layer\n",
    "model.add(MaxPooling2D(pool_size=(2,2),dim_ordering='tf'))\n",
    "model.add(Flatten())\n",
    "# Relu \n",
    "model.add(Dense(128, activation='relu'))\n",
    "# Sigmoid Fully connected layer\n",
    "model.add(Dense(2))\n",
    "model.add(Activation('sigmoid'))\n",
    "model.compile(loss=objective,optimizer=Optimizer,metrics=['accuracy'])"
   ]
  },
  {
   "cell_type": "code",
   "execution_count": 30,
   "metadata": {},
   "outputs": [
    {
     "name": "stderr",
     "output_type": "stream",
     "text": [
      "/home/surya/.conda/lib/python3.6/site-packages/keras/models.py:942: UserWarning: The `nb_epoch` argument in `fit` has been renamed `epochs`.\n",
      "  warnings.warn('The `nb_epoch` argument in `fit` '\n"
     ]
    },
    {
     "name": "stdout",
     "output_type": "stream",
     "text": [
      "Epoch 1/20\n",
      "2622/2622 [==============================] - 96s 37ms/step - loss: 0.3208 - acc: 0.8602\n",
      "Epoch 2/20\n",
      "2622/2622 [==============================] - 99s 38ms/step - loss: 0.2349 - acc: 0.9113\n",
      "Epoch 3/20\n",
      "2622/2622 [==============================] - 99s 38ms/step - loss: 0.1670 - acc: 0.9382\n",
      "Epoch 4/20\n",
      "2622/2622 [==============================] - 101s 39ms/step - loss: 0.1042 - acc: 0.9636\n",
      "Epoch 5/20\n",
      "2622/2622 [==============================] - 103s 39ms/step - loss: 0.0653 - acc: 0.9813\n",
      "Epoch 6/20\n",
      "2622/2622 [==============================] - 106s 40ms/step - loss: 0.0451 - acc: 0.9884\n",
      "Epoch 7/20\n",
      "2622/2622 [==============================] - 105s 40ms/step - loss: 0.0219 - acc: 0.9956\n",
      "Epoch 8/20\n",
      "2622/2622 [==============================] - 108s 41ms/step - loss: 0.0150 - acc: 0.9987\n",
      "Epoch 9/20\n",
      "2622/2622 [==============================] - 105s 40ms/step - loss: 0.0081 - acc: 0.9996\n",
      "Epoch 10/20\n",
      "2622/2622 [==============================] - 106s 40ms/step - loss: 0.0041 - acc: 1.0000\n",
      "Epoch 11/20\n",
      "2622/2622 [==============================] - 108s 41ms/step - loss: 0.0029 - acc: 1.0000\n",
      "Epoch 12/20\n",
      "2622/2622 [==============================] - 106s 41ms/step - loss: 0.0023 - acc: 1.0000\n",
      "Epoch 13/20\n",
      "2622/2622 [==============================] - 106s 41ms/step - loss: 0.0016 - acc: 1.0000\n",
      "Epoch 14/20\n",
      "2622/2622 [==============================] - 106s 40ms/step - loss: 0.0013 - acc: 1.0000\n",
      "Epoch 15/20\n",
      "2622/2622 [==============================] - 108s 41ms/step - loss: 0.0011 - acc: 1.0000\n",
      "Epoch 16/20\n",
      "2622/2622 [==============================] - 103s 39ms/step - loss: 0.0010 - acc: 1.0000\n",
      "Epoch 17/20\n",
      "2622/2622 [==============================] - 100s 38ms/step - loss: 7.6736e-04 - acc: 1.0000\n",
      "Epoch 18/20\n",
      "2622/2622 [==============================] - 99s 38ms/step - loss: 6.3984e-04 - acc: 1.0000\n",
      "Epoch 19/20\n",
      "2622/2622 [==============================] - 99s 38ms/step - loss: 6.2527e-04 - acc: 1.0000\n",
      "Epoch 20/20\n",
      "2622/2622 [==============================] - 99s 38ms/step - loss: 5.8609e-04 - acc: 1.0000\n"
     ]
    },
    {
     "data": {
      "text/plain": [
       "<keras.callbacks.History at 0x7fca54601278>"
      ]
     },
     "execution_count": 30,
     "metadata": {},
     "output_type": "execute_result"
    }
   ],
   "source": [
    "model.fit(x_train,y_train,batch_size=50,nb_epoch=20,verbose=1)\n"
   ]
  },
  {
   "cell_type": "code",
   "execution_count": 31,
   "metadata": {},
   "outputs": [],
   "source": [
    "from sklearn.metrics import classification_report\n",
    "Y_test = np.argmax(y_test,axis=1)"
   ]
  },
  {
   "cell_type": "code",
   "execution_count": 32,
   "metadata": {
    "scrolled": true
   },
   "outputs": [],
   "source": [
    "y_pred = model.predict_classes(x_test)"
   ]
  },
  {
   "cell_type": "code",
   "execution_count": 33,
   "metadata": {},
   "outputs": [
    {
     "data": {
      "text/plain": [
       "array([1, 0, 0, 0, 0, 0, 1, 0, 0, 1, 0, 1, 1, 0, 0, 0, 0, 0, 0, 0, 0, 1,\n",
       "       0, 0, 1, 0, 1, 1, 1, 0, 1, 0, 0, 0, 1, 0, 1, 1, 0, 0, 0, 0, 0, 0,\n",
       "       0, 0, 0, 1, 1, 0, 0, 1, 0, 1, 0, 1, 0, 1, 1, 0, 1, 0, 0, 0, 0, 0,\n",
       "       0, 1, 1, 0, 0, 1, 0, 0, 1, 1, 1, 0, 1, 1, 1, 0, 0, 1, 0, 1, 0, 1,\n",
       "       0, 1, 0, 0, 0, 0, 1, 0, 0, 0, 0, 1, 0, 0, 0, 0, 0, 0, 1, 0, 0, 0,\n",
       "       0, 1, 0, 0, 0, 1, 1, 1, 0, 1, 1, 0, 0, 1, 1, 0, 1, 0, 0, 0, 1, 1,\n",
       "       1, 1, 0, 0, 1, 1, 0, 0, 0, 1, 0, 1, 0, 0, 0, 0, 0, 0, 1, 1, 0, 0,\n",
       "       1, 0, 1, 0, 1, 0, 0, 0, 1, 0, 0, 1, 0, 0, 0, 0, 1, 0, 1, 0, 0, 1,\n",
       "       0, 0, 0, 1, 0, 1, 1, 0, 0, 0, 0, 0, 1, 1, 0, 0, 0, 1, 0, 1, 0, 0,\n",
       "       0, 1, 0, 0, 0, 0, 0, 0, 0, 1, 0, 1, 0, 1, 0, 0, 1, 0, 0, 0, 0, 0,\n",
       "       0, 1, 0, 1, 0, 0, 1, 1, 1, 0, 0, 0, 0, 0, 0, 1, 0, 0, 1, 1, 0, 0,\n",
       "       0, 0, 0, 0, 0, 0, 0, 0, 0, 0, 0, 0, 0, 0, 1, 0, 1, 0, 1, 0, 1, 0,\n",
       "       1, 0, 0, 1, 1, 0, 0, 0, 0, 1, 0, 0, 0, 0, 1, 0, 1, 0, 1, 0, 1, 1,\n",
       "       1, 1, 1, 1, 1, 0, 1, 0, 0, 0, 1, 0, 0, 1, 0, 1, 0, 0, 0, 1, 0, 0,\n",
       "       1, 1, 0, 0, 1, 1, 1, 0, 1, 0, 0, 1, 1, 0, 0, 0, 1, 0, 0, 0, 1, 0,\n",
       "       1, 1, 0, 1, 0, 0, 1, 1, 0, 1, 1, 1, 1, 0, 1, 0, 0, 0, 1, 0, 1, 1,\n",
       "       1, 1, 0, 1, 0, 1, 0, 1, 1, 1, 1, 1, 1, 1, 1, 1, 1, 1, 1, 0, 1, 1,\n",
       "       1, 0, 1, 0, 1, 0, 1, 1, 0, 0, 1, 1, 1, 1, 1, 0, 1, 1, 1, 1, 1, 1,\n",
       "       0, 1, 1, 1, 0, 1, 0, 0, 0, 0, 0, 1, 1, 0, 0, 0, 1, 1, 1, 1, 1, 0,\n",
       "       0, 0, 1, 0, 0, 0, 1, 0, 0, 0, 1, 0, 1, 1, 0, 1, 0, 1, 1, 1, 0, 1,\n",
       "       0, 0, 1, 0, 1, 0, 0, 0, 1, 1, 1, 1, 1, 1, 1, 1, 0, 1, 0, 0, 1, 0,\n",
       "       1, 1, 0, 1, 1, 1, 1, 1, 1, 0, 1, 1, 1, 1, 1, 0, 1, 1, 1, 1, 0, 0,\n",
       "       1, 1, 1, 1, 1, 0, 1, 1, 1, 1, 1, 1, 1, 0, 1, 1])"
      ]
     },
     "execution_count": 33,
     "metadata": {},
     "output_type": "execute_result"
    }
   ],
   "source": [
    "y_pred"
   ]
  },
  {
   "cell_type": "markdown",
   "metadata": {},
   "source": [
    "# Classification Report"
   ]
  },
  {
   "cell_type": "code",
   "execution_count": 34,
   "metadata": {},
   "outputs": [
    {
     "name": "stdout",
     "output_type": "stream",
     "text": [
      "             precision    recall  f1-score   support\n",
      "\n",
      "          0       0.72      0.65      0.68       300\n",
      "          1       0.54      0.61      0.57       200\n",
      "\n",
      "avg / total       0.64      0.63      0.64       500\n",
      "\n"
     ]
    }
   ],
   "source": [
    "print(classification_report(Y_test,y_pred))"
   ]
  },
  {
   "cell_type": "code",
   "execution_count": 35,
   "metadata": {
    "scrolled": false
   },
   "outputs": [
    {
     "name": "stdout",
     "output_type": "stream",
     "text": [
      "_________________________________________________________________\n",
      "Layer (type)                 Output Shape              Param #   \n",
      "=================================================================\n",
      "activation_5 (Activation)    (None, 128, 128, 3)       0         \n",
      "_________________________________________________________________\n",
      "conv2d_5 (Conv2D)            (None, 128, 128, 32)      2432      \n",
      "_________________________________________________________________\n",
      "max_pooling2d_5 (MaxPooling2 (None, 64, 64, 32)        0         \n",
      "_________________________________________________________________\n",
      "conv2d_6 (Conv2D)            (None, 64, 64, 64)        18496     \n",
      "_________________________________________________________________\n",
      "max_pooling2d_6 (MaxPooling2 (None, 32, 32, 64)        0         \n",
      "_________________________________________________________________\n",
      "flatten_3 (Flatten)          (None, 65536)             0         \n",
      "_________________________________________________________________\n",
      "dense_5 (Dense)              (None, 128)               8388736   \n",
      "_________________________________________________________________\n",
      "dense_6 (Dense)              (None, 2)                 258       \n",
      "_________________________________________________________________\n",
      "activation_6 (Activation)    (None, 2)                 0         \n",
      "=================================================================\n",
      "Total params: 8,409,922\n",
      "Trainable params: 8,409,922\n",
      "Non-trainable params: 0\n",
      "_________________________________________________________________\n"
     ]
    }
   ],
   "source": [
    "model.summary()"
   ]
  },
  {
   "cell_type": "code",
   "execution_count": null,
   "metadata": {},
   "outputs": [],
   "source": []
  }
 ],
 "metadata": {
  "kernelspec": {
   "display_name": "Python 3",
   "language": "python",
   "name": "python3"
  },
  "language_info": {
   "codemirror_mode": {
    "name": "ipython",
    "version": 3
   },
   "file_extension": ".py",
   "mimetype": "text/x-python",
   "name": "python",
   "nbconvert_exporter": "python",
   "pygments_lexer": "ipython3",
   "version": "3.6.4"
  }
 },
 "nbformat": 4,
 "nbformat_minor": 2
}
